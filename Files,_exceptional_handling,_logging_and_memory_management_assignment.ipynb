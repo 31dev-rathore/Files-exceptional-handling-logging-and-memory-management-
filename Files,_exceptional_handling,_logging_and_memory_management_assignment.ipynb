{
  "nbformat": 4,
  "nbformat_minor": 0,
  "metadata": {
    "colab": {
      "provenance": []
    },
    "kernelspec": {
      "name": "python3",
      "display_name": "Python 3"
    },
    "language_info": {
      "name": "python"
    }
  },
  "cells": [
    {
      "cell_type": "markdown",
      "source": [
        "# **Theory Questions**\n",
        "\n"
      ],
      "metadata": {
        "id": "HnfjAAELO3qj"
      }
    },
    {
      "cell_type": "markdown",
      "source": [
        "Q1.What is the difference between interpreted and compiled languages?\n",
        "\n",
        "  Compiled languages are translated into machine code before running, making them faster and creating standalone executables. Interpreted languages run code line by line using an interpreter, which is slower but more flexible. Examples include C (compiled) and Python (interpreted).\n"
      ],
      "metadata": {
        "id": "jDUViE1pPJUk"
      }
    },
    {
      "cell_type": "markdown",
      "source": [
        "Q2.What is exception handling in Python?\n",
        "\n",
        "  Exception handling in Python is a way to manage errors that occur during program execution using `try`, `except`, `else`, and `finally` blocks. It helps prevent programs from crashing by catching and handling exceptions like `ZeroDivisionError` or `FileNotFoundError`.\n"
      ],
      "metadata": {
        "id": "mtOblSv6P00l"
      }
    },
    {
      "cell_type": "markdown",
      "source": [
        "Q3.What is the purpose of the finally block in exception handling?\n",
        "\n",
        "  The `finally` block in exception handling is used to define code that should run no matter what—whether an exception occurs or not. It's typically used for cleanup actions like closing files or releasing resources.\n"
      ],
      "metadata": {
        "id": "CK6r-NXDQAhZ"
      }
    },
    {
      "cell_type": "markdown",
      "source": [
        "Q4.What is logging in Python?\n",
        "\n",
        "  Logging in Python is the process of recording messages about a program’s execution to help with debugging, monitoring, and error tracking. Python’s built-in `logging` module lets you log messages at different levels like `DEBUG`, `INFO`, `WARNING`, `ERROR`, and `CRITICAL`.\n"
      ],
      "metadata": {
        "id": "NyAaFX8wQAkb"
      }
    },
    {
      "cell_type": "markdown",
      "source": [
        "Q5.What is the significance of the __del__ method in Python?\n",
        "\n",
        "  The `__del__` method in Python is a special method called a destructor. It is automatically invoked when an object is about to be destroyed, and is typically used to clean up resources like closing files or network connections.\n"
      ],
      "metadata": {
        "id": "9UHiDYQQQAnJ"
      }
    },
    {
      "cell_type": "markdown",
      "source": [
        "Q6.What is the difference between import and from ... import in Python?\n",
        "\n",
        "  `import` loads the entire module and requires using the module name to access its parts, while `from ... import` loads specific functions or variables directly, allowing you to use them without the module prefix.**bold text**\n"
      ],
      "metadata": {
        "id": "LDXB1aViQAqI"
      }
    },
    {
      "cell_type": "markdown",
      "source": [
        "Q7.How can you handle multiple exceptions in Python?\n",
        "\n",
        "  You can handle multiple exceptions in Python by listing them in a single `except` block using parentheses, like `except (TypeError, ValueError):`, or by using separate `except` blocks for each exception type.\n"
      ],
      "metadata": {
        "id": "Y7h6wP7NQAs4"
      }
    },
    {
      "cell_type": "markdown",
      "source": [
        "Q8.What is the purpose of the with statement when handling files in Python?\n",
        "\n",
        "  The `with` statement in Python ensures that a file is properly opened and automatically closed after its block of code runs, even if errors occur, making file handling safer and cleaner.\n"
      ],
      "metadata": {
        "id": "qVYaSDTsQAvr"
      }
    },
    {
      "cell_type": "markdown",
      "source": [
        "Q9. What is the difference between multithreading and multiprocessing?\n",
        "\n",
        "  Multithreading runs multiple threads within the same process, sharing memory and resources, which is good for I/O-bound tasks but limited by Python’s Global Interpreter Lock (GIL). Multiprocessing runs multiple processes independently, each with its own memory, allowing true parallelism and better performance for CPU-bound tasks.\n"
      ],
      "metadata": {
        "id": "hd4718LAQAzO"
      }
    },
    {
      "cell_type": "markdown",
      "source": [
        "Q10.What are the advantages of using logging in a program?\n",
        "\n",
        "  Logging helps track a program’s behavior, making it easier to debug and monitor by recording events, errors, and important actions. It provides a history of what happened, helps diagnose issues without stopping the program, and supports different levels of detail (like info, warning, error).\n"
      ],
      "metadata": {
        "id": "05-GYU3BRQYD"
      }
    },
    {
      "cell_type": "markdown",
      "source": [
        "Q11.What is memory management in Python?\n",
        "\n",
        "  Memory management in Python is how the language automatically handles the creation, use, and cleanup of memory while your program runs. It makes sure that unused objects are removed to free up space, so your program doesn’t run out of memory or slow down.\n"
      ],
      "metadata": {
        "id": "m_gcqTGnR3_A"
      }
    },
    {
      "cell_type": "markdown",
      "source": [
        "Q12.What are the basic steps involved in exception handling in Python?\n",
        "\n",
        "  In Python, exception handling means putting code that might cause errors inside a `try` block. If an error happens, the program looks for an `except` block to handle that error and keep running without crashing. You can also use an `else` block to run code when there’s no error, and a `finally` block to run code that should happen no matter what, like closing a file.\n"
      ],
      "metadata": {
        "id": "mLJZdNSJR4CW"
      }
    },
    {
      "cell_type": "markdown",
      "source": [
        "Q13.Why is memory management important in Python?\n",
        "\n",
        "  Memory management is important in Python to efficiently use system resources, avoid memory leaks, and ensure that programs run smoothly without slowing down or crashing due to running out of memory.\n"
      ],
      "metadata": {
        "id": "qdckkjgsR4FM"
      }
    },
    {
      "cell_type": "markdown",
      "source": [
        "Q14.What is the role of try and except in exception handling?\n",
        "\n",
        "  The `try` block contains code that might cause an error, and the `except` block catches and handles those errors to prevent the program from crashing. Together, they allow graceful handling of exceptions.\n"
      ],
      "metadata": {
        "id": "W5iFj_CeR4Ij"
      }
    },
    {
      "cell_type": "markdown",
      "source": [
        "Q15.How does Python's garbage collection system work?\n",
        "\n",
        "  Python’s garbage collection automatically frees memory by tracking and removing objects that are no longer referenced. It mainly uses reference counting—when an object’s reference count drops to zero, it’s deleted. To handle reference cycles (objects referencing each other), Python also has a cyclic garbage collector that periodically cleans them up.\n"
      ],
      "metadata": {
        "id": "mgwkVaWHR4M5"
      }
    },
    {
      "cell_type": "markdown",
      "source": [
        "Q16.What is the purpose of the else block in exception handling?\n",
        "\n",
        "  The `else` block in exception handling runs code only if no exceptions were raised in the `try` block, allowing you to separate normal execution from error handling.\n"
      ],
      "metadata": {
        "id": "MTZ_5mn2R4QA"
      }
    },
    {
      "cell_type": "markdown",
      "source": [
        "Q17.What are the common logging levels in Python?\n",
        "\n",
        "  Python’s logging levels include DEBUG for detailed info, INFO for general messages, WARNING for minor issues, ERROR for serious problems, and CRITICAL for very severe errors.\n"
      ],
      "metadata": {
        "id": "NpJ8BBJAR4TV"
      }
    },
    {
      "cell_type": "markdown",
      "source": [
        "Q18.What is the difference between os.fork() and multiprocessing in Python?\n",
        "\n",
        "  `os.fork()` creates a new child process by duplicating the current process at the OS level, mainly used on Unix systems for low-level process control. `multiprocessing` is a higher-level Python module that creates and manages separate processes across platforms, making it easier to write parallel programs with features like process pools and communication between processes.\n"
      ],
      "metadata": {
        "id": "P8695frzR4WT"
      }
    },
    {
      "cell_type": "markdown",
      "source": [
        "Q19.What is the importance of closing a file in Python?\n",
        "\n",
        "  Closing a file in Python is important because it frees up system resources, ensures all data is properly saved (written), and prevents potential errors or data loss.\n",
        "\n",
        "\n",
        "  "
      ],
      "metadata": {
        "id": "60ZL_DxHR4Zq"
      }
    },
    {
      "cell_type": "markdown",
      "source": [
        "Q20.What is the difference between file.read() and file.readline() in Python?\n",
        "\n",
        "  `file.read()` reads the entire content of a file as a single string, while `file.readline()` reads the file one line at a time, returning each line as a string.\n"
      ],
      "metadata": {
        "id": "d-mga0OSR4dB"
      }
    },
    {
      "cell_type": "markdown",
      "source": [
        "Q21.What is the logging module in Python used for?\n",
        "\n",
        "  The logging module in Python is used to record messages about a program’s events, errors, and important actions. It helps developers track what’s happening in the program and find problems more easily.\n"
      ],
      "metadata": {
        "id": "axTCJxR-Vyeh"
      }
    },
    {
      "cell_type": "markdown",
      "source": [
        "Q22.What is the os module in Python used for in file handling?\n",
        "\n",
        "  The `os` module in Python provides functions to interact with the operating system, such as creating, deleting, renaming, and moving files and directories, helping you manage files beyond just reading and writing them.\n"
      ],
      "metadata": {
        "id": "zlo-jLHJVyJB"
      }
    },
    {
      "cell_type": "markdown",
      "source": [
        "Q23.What are the challenges associated with memory management in Python?\n",
        "\n",
        "  Challenges in Python memory management include handling reference cycles where objects reference each other and don’t get freed easily, managing memory efficiently to avoid leaks, and dealing with the Global Interpreter Lock (GIL) that can affect performance in multi-threaded programs.\n"
      ],
      "metadata": {
        "id": "xe16EuHXVx83"
      }
    },
    {
      "cell_type": "markdown",
      "source": [
        "Q24.How do you raise an exception manually in Python?\n",
        "\n",
        "  You raise an exception manually in Python using the `raise` statement followed by the exception you want to trigger. For example, `raise ValueError(\"Invalid input\")` stops the program and signals a ValueError with your message.\n"
      ],
      "metadata": {
        "id": "usasbDtpVxtb"
      }
    },
    {
      "cell_type": "markdown",
      "source": [
        "Q25.Why is it important to use multithreading in certain applications?\n",
        "\n",
        "  Multithreading is important in certain applications because it allows multiple tasks to run at the same time within one program, improving performance especially for tasks that wait for input/output, like reading files or loading data from the internet, making programs faster and more responsive.\n"
      ],
      "metadata": {
        "id": "-MSpQ3ndVxp2"
      }
    },
    {
      "cell_type": "markdown",
      "source": [
        "# **Practical Questions**"
      ],
      "metadata": {
        "id": "QB0K3ZQQXYcb"
      }
    },
    {
      "cell_type": "markdown",
      "source": [
        "Q1.How can you open a file for writing in Python and write a string to it?"
      ],
      "metadata": {
        "id": "Ox6xaBIDXESQ"
      }
    },
    {
      "cell_type": "code",
      "source": [
        "with open('filename.txt', 'w') as file:\n",
        "    file.write('Hello, world!')\n"
      ],
      "metadata": {
        "id": "aaf2W0yqXhP2"
      },
      "execution_count": 1,
      "outputs": []
    },
    {
      "cell_type": "markdown",
      "source": [
        "Q2.Write a Python program to read the contents of a file and print each line?"
      ],
      "metadata": {
        "id": "OmRbDw7pXiBK"
      }
    },
    {
      "cell_type": "code",
      "source": [
        "with open('filename.txt', 'r') as file:\n",
        "    for line in file:\n",
        "        print(line, end='')\n"
      ],
      "metadata": {
        "colab": {
          "base_uri": "https://localhost:8080/"
        },
        "id": "Xqc_NWTmXiQi",
        "outputId": "ef6d6863-7fe8-469d-f2e6-e4fb31289689"
      },
      "execution_count": 2,
      "outputs": [
        {
          "output_type": "stream",
          "name": "stdout",
          "text": [
            "Hello, world!"
          ]
        }
      ]
    },
    {
      "cell_type": "markdown",
      "source": [
        "Q3.How would you handle a case where the file doesn't exist while trying to open it for reading?"
      ],
      "metadata": {
        "id": "mZGPjLmEXr4V"
      }
    },
    {
      "cell_type": "code",
      "source": [
        "try:\n",
        "    with open('filename.txt', 'r') as file:\n",
        "        for line in file:\n",
        "            print(line, end='')\n",
        "except FileNotFoundError:\n",
        "    print(\"The file does not exist.\")\n"
      ],
      "metadata": {
        "colab": {
          "base_uri": "https://localhost:8080/"
        },
        "id": "epwNCCZ_Xy6x",
        "outputId": "caf36656-857a-4703-a49e-946e127350a2"
      },
      "execution_count": 3,
      "outputs": [
        {
          "output_type": "stream",
          "name": "stdout",
          "text": [
            "Hello, world!"
          ]
        }
      ]
    },
    {
      "cell_type": "markdown",
      "source": [
        "Q4.Write a Python script that reads from one file and writes its content to another file?"
      ],
      "metadata": {
        "id": "3_JRGLELXzrI"
      }
    },
    {
      "cell_type": "code",
      "source": [
        "def copy_file(source_file, destination_file):\n",
        "    try:\n",
        "        with open(source_file, 'r') as source, open(destination_file, 'w') as destination:\n",
        "            for line in source:\n",
        "                destination.write(line)\n",
        "        print(f\"Successfully copied content from '{source_file}' to '{destination_file}'\")\n",
        "    except FileNotFoundError:\n",
        "        print(f\"Error: Source file '{source_file}' not found.\")\n",
        "    except Exception as e:\n",
        "        print(f\"An error occurred: {e}\")\n",
        "\n",
        "if __name__ == \"__main__\":\n",
        "    source_file = \"source.txt\"\n",
        "    destination_file = \"destination.txt\"\n",
        "    copy_file(source_file, destination_file)"
      ],
      "metadata": {
        "colab": {
          "base_uri": "https://localhost:8080/"
        },
        "id": "yNn0YVrsXz7j",
        "outputId": "56d829af-c5cf-4c30-836f-6e32d930d840"
      },
      "execution_count": 40,
      "outputs": [
        {
          "output_type": "stream",
          "name": "stdout",
          "text": [
            "Error: Source file 'source.txt' not found.\n"
          ]
        }
      ]
    },
    {
      "cell_type": "markdown",
      "source": [
        "Q5.How would you catch and handle division by zero error in Python?"
      ],
      "metadata": {
        "id": "NQjStXviX0Ja"
      }
    },
    {
      "cell_type": "code",
      "source": [
        "try:\n",
        "    result = 10 / 0\n",
        "except ZeroDivisionError:\n",
        "    print(\"Cannot divide by zero!\")\n"
      ],
      "metadata": {
        "colab": {
          "base_uri": "https://localhost:8080/"
        },
        "id": "oQSUecPKX0eZ",
        "outputId": "1dec38ca-ea2d-40ab-d938-564e168eccc6"
      },
      "execution_count": 8,
      "outputs": [
        {
          "output_type": "stream",
          "name": "stdout",
          "text": [
            "Cannot divide by zero!\n"
          ]
        }
      ]
    },
    {
      "cell_type": "markdown",
      "source": [
        "Q6.Write a Python program that logs an error message to a log file when a division by zero exception occurs."
      ],
      "metadata": {
        "id": "qWShdN9gZ1HX"
      }
    },
    {
      "cell_type": "code",
      "source": [
        "import logging\n",
        "\n",
        "# Configure logging to write to a file\n",
        "logging.basicConfig(filename='error.log', level=logging.ERROR,\n",
        "                    format='%(asctime)s - %(levelname)s - %(message)s')\n",
        "\n",
        "try:\n",
        "    result = 10 / 0\n",
        "except ZeroDivisionError as e:\n",
        "    logging.error(\"Division by zero error occurred: %s\", e)\n",
        "    print(\"An error was logged.\")\n"
      ],
      "metadata": {
        "colab": {
          "base_uri": "https://localhost:8080/"
        },
        "id": "daFMCKMDZr4b",
        "outputId": "9fc4f061-e1a3-4ec7-a765-566301d7f9d7"
      },
      "execution_count": 9,
      "outputs": [
        {
          "output_type": "stream",
          "name": "stderr",
          "text": [
            "ERROR:root:Division by zero error occurred: division by zero\n"
          ]
        },
        {
          "output_type": "stream",
          "name": "stdout",
          "text": [
            "An error was logged.\n"
          ]
        }
      ]
    },
    {
      "cell_type": "markdown",
      "source": [
        "Q7. How do you log information at different levels (INFO, ERROR, WARNING) in Python using the logging module?"
      ],
      "metadata": {
        "id": "cd7PdnqoZ2QR"
      }
    },
    {
      "cell_type": "code",
      "source": [
        "import logging\n",
        "\n",
        "logging.basicConfig(level=logging.DEBUG)\n",
        "\n",
        "logging.info(\"This is an info message.\")\n",
        "logging.warning(\"This is a warning message.\")\n",
        "logging.error(\"This is an error message.\")\n"
      ],
      "metadata": {
        "colab": {
          "base_uri": "https://localhost:8080/"
        },
        "id": "nrDEwb_9aaUK",
        "outputId": "88e8c022-3873-45fc-edfd-5a5ea61e04cd"
      },
      "execution_count": 10,
      "outputs": [
        {
          "output_type": "stream",
          "name": "stderr",
          "text": [
            "WARNING:root:This is a warning message.\n",
            "ERROR:root:This is an error message.\n"
          ]
        }
      ]
    },
    {
      "cell_type": "markdown",
      "source": [
        "Q8.Write a program to handle a file opening error using exception handling."
      ],
      "metadata": {
        "id": "kFN4p35OaiHd"
      }
    },
    {
      "cell_type": "code",
      "source": [
        "try:\n",
        "    with open('myfile.txt', 'r') as file:\n",
        "        content = file.read()\n",
        "        print(content)\n",
        "except FileNotFoundError:\n",
        "    print(\"Error: The file does not exist.\")\n",
        "except IOError:\n",
        "    print(\"Error: An I/O error occurred while handling the file.\")\n"
      ],
      "metadata": {
        "colab": {
          "base_uri": "https://localhost:8080/"
        },
        "id": "GW6455oUacPI",
        "outputId": "6e23b3b1-4b16-479e-feea-d3c57e09c094"
      },
      "execution_count": 11,
      "outputs": [
        {
          "output_type": "stream",
          "name": "stdout",
          "text": [
            "Error: The file does not exist.\n"
          ]
        }
      ]
    },
    {
      "cell_type": "markdown",
      "source": [
        "Q9.How can you read a file line by line and store its content in a list in Python?"
      ],
      "metadata": {
        "id": "Wo6AAPQnarmI"
      }
    },
    {
      "cell_type": "code",
      "source": [
        "lines = []\n",
        "with open('filename.txt', 'r') as file:\n",
        "    for line in file:\n",
        "        lines.append(line.strip())  # removes newline characters\n"
      ],
      "metadata": {
        "id": "q2aSIiY9a2oS"
      },
      "execution_count": 12,
      "outputs": []
    },
    {
      "cell_type": "markdown",
      "source": [
        "Q10. How can you append data to an existing file in Python?"
      ],
      "metadata": {
        "id": "LYpYvhcebEaF"
      }
    },
    {
      "cell_type": "code",
      "source": [
        "with open('filename.txt', 'a') as file:\n",
        "    file.write('This text will be added at the end.\\n')\n"
      ],
      "metadata": {
        "id": "q_3LKZVda4q6"
      },
      "execution_count": 13,
      "outputs": []
    },
    {
      "cell_type": "markdown",
      "source": [
        "Q11.Write a Python program that uses a try-except block to handle an error when attempting to access a\n",
        "dictionary key that doesn't exist?"
      ],
      "metadata": {
        "id": "evaRiaA7bOh9"
      }
    },
    {
      "cell_type": "code",
      "source": [
        "my_dict = {'a': 1, 'b': 2}\n",
        "\n",
        "try:\n",
        "    value = my_dict['c']\n",
        "except KeyError:\n",
        "    print(\"Key not found in the dictionary.\")\n"
      ],
      "metadata": {
        "colab": {
          "base_uri": "https://localhost:8080/"
        },
        "id": "zoY5pF6-bOzG",
        "outputId": "92539a2f-76e7-4436-b164-44a4eb858a6e"
      },
      "execution_count": 14,
      "outputs": [
        {
          "output_type": "stream",
          "name": "stdout",
          "text": [
            "Key not found in the dictionary.\n"
          ]
        }
      ]
    },
    {
      "cell_type": "markdown",
      "source": [
        "Q12. Write a program that demonstrates using multiple except blocks to handle different types of exceptions?"
      ],
      "metadata": {
        "id": "Ugr7YGGSbZRt"
      }
    },
    {
      "cell_type": "code",
      "source": [
        "try:\n",
        "    num = int(input(\"Enter a number: \"))\n",
        "    result = 10 / num\n",
        "except ValueError:\n",
        "    print(\"Invalid input! Please enter a valid number.\")\n",
        "except ZeroDivisionError:\n",
        "    print(\"Cannot divide by zero!\")\n",
        "except Exception as e:\n",
        "    print(\"An unexpected error occurred:\", e)\n"
      ],
      "metadata": {
        "colab": {
          "base_uri": "https://localhost:8080/"
        },
        "id": "mYiMBK9Bbd3E",
        "outputId": "7d380b71-64d1-4b4f-dcc3-32035cde516c"
      },
      "execution_count": 16,
      "outputs": [
        {
          "name": "stdout",
          "output_type": "stream",
          "text": [
            "Enter a number: 6\n"
          ]
        }
      ]
    },
    {
      "cell_type": "markdown",
      "source": [
        "Q13.How would you check if a file exists before attempting to read it in Python?"
      ],
      "metadata": {
        "id": "rFWlgqZ4bebT"
      }
    },
    {
      "cell_type": "code",
      "source": [
        "import os\n",
        "\n",
        "if os.path.exists('filename.txt'):\n",
        "    with open('filename.txt', 'r') as file:\n",
        "        content = file.read()\n",
        "        print(content)\n",
        "else:\n",
        "    print(\"File does not exist.\")\n"
      ],
      "metadata": {
        "colab": {
          "base_uri": "https://localhost:8080/"
        },
        "id": "nxd7GK7qbgdr",
        "outputId": "efcc6c8c-15fb-4024-afc9-d35aebf48903"
      },
      "execution_count": 17,
      "outputs": [
        {
          "output_type": "stream",
          "name": "stdout",
          "text": [
            "Hello, world!This text will be added at the end.\n",
            "\n"
          ]
        }
      ]
    },
    {
      "cell_type": "markdown",
      "source": [
        "Q14. Write a program that uses the logging module to log both informational and error messages."
      ],
      "metadata": {
        "id": "t0DhFiuDcHKL"
      }
    },
    {
      "cell_type": "code",
      "source": [
        "import logging\n",
        "\n",
        "# Configure logging to show messages of INFO level and above\n",
        "logging.basicConfig(level=logging.INFO, format='%(levelname)s: %(message)s')\n",
        "\n",
        "logging.info(\"This is an informational message.\")\n",
        "\n",
        "try:\n",
        "    result = 10 / 0\n",
        "except ZeroDivisionError:\n",
        "    logging.error(\"An error occurred: division by zero.\")\n"
      ],
      "metadata": {
        "colab": {
          "base_uri": "https://localhost:8080/"
        },
        "id": "K8Gd1l-hcOAz",
        "outputId": "28d78b36-42e7-4896-cc1e-6d9267f597d7"
      },
      "execution_count": 18,
      "outputs": [
        {
          "output_type": "stream",
          "name": "stderr",
          "text": [
            "ERROR:root:An error occurred: division by zero.\n"
          ]
        }
      ]
    },
    {
      "cell_type": "markdown",
      "source": [
        "Q15.Write a Python program that prints the content of a file and handles the case when the file is empty."
      ],
      "metadata": {
        "id": "xDKjCJsbcOiG"
      }
    },
    {
      "cell_type": "code",
      "source": [
        "try:\n",
        "    with open('sample.txt', 'r') as file:\n",
        "        content = file.read()\n",
        "        if content:\n",
        "            print(\"File content:\\n\", content)\n",
        "        else:\n",
        "            print(\"The file is empty.\")\n",
        "except FileNotFoundError:\n",
        "    print(\"The file does not exist.\")\n"
      ],
      "metadata": {
        "colab": {
          "base_uri": "https://localhost:8080/"
        },
        "id": "9uUFZxUwcuDR",
        "outputId": "f7ffbbf0-d67e-4f7c-d6b7-1356f87e2ac0"
      },
      "execution_count": 26,
      "outputs": [
        {
          "output_type": "stream",
          "name": "stdout",
          "text": [
            "The file does not exist.\n"
          ]
        }
      ]
    },
    {
      "cell_type": "markdown",
      "source": [
        "Q16.Demonstrate how to use memory profiling to check the memory usage of a small program."
      ],
      "metadata": {
        "id": "GGzekLWvcune"
      }
    },
    {
      "cell_type": "code",
      "source": [
        "pip install memory_profiler\n"
      ],
      "metadata": {
        "colab": {
          "base_uri": "https://localhost:8080/"
        },
        "id": "6R6oluiMcw6K",
        "outputId": "9d53eef1-36b3-4109-f5c0-5e786105d214"
      },
      "execution_count": 19,
      "outputs": [
        {
          "output_type": "stream",
          "name": "stdout",
          "text": [
            "Collecting memory_profiler\n",
            "  Downloading memory_profiler-0.61.0-py3-none-any.whl.metadata (20 kB)\n",
            "Requirement already satisfied: psutil in /usr/local/lib/python3.11/dist-packages (from memory_profiler) (5.9.5)\n",
            "Downloading memory_profiler-0.61.0-py3-none-any.whl (31 kB)\n",
            "Installing collected packages: memory_profiler\n",
            "Successfully installed memory_profiler-0.61.0\n"
          ]
        }
      ]
    },
    {
      "cell_type": "code",
      "source": [
        "from memory_profiler import profile\n",
        "\n",
        "@profile\n",
        "def my_function():\n",
        "    a = [i for i in range(1000000)]\n",
        "    return a\n",
        "\n",
        "if __name__ == \"__main__\":\n",
        "    my_function()\n"
      ],
      "metadata": {
        "colab": {
          "base_uri": "https://localhost:8080/"
        },
        "id": "6bD6NFVyc29n",
        "outputId": "bf482d03-8ea2-4fe2-b973-b0f1a9b8f89a"
      },
      "execution_count": 24,
      "outputs": [
        {
          "output_type": "stream",
          "name": "stdout",
          "text": [
            "ERROR: Could not find file <ipython-input-24-fa69cdf33763>\n",
            "NOTE: %mprun can only be used on functions defined in physical files, and not in the IPython environment.\n"
          ]
        }
      ]
    },
    {
      "cell_type": "code",
      "source": [
        "!python -m memory_profiler memory_test.py"
      ],
      "metadata": {
        "colab": {
          "base_uri": "https://localhost:8080/"
        },
        "id": "wmapBYkWc6B6",
        "outputId": "c2032040-b92b-4520-ae89-8cd2c87717d2"
      },
      "execution_count": 25,
      "outputs": [
        {
          "output_type": "stream",
          "name": "stdout",
          "text": [
            "Could not find script memory_test.py\n"
          ]
        }
      ]
    },
    {
      "cell_type": "markdown",
      "source": [
        "Q17.Write a Python program to create and write a list of numbers to a file, one number per line?"
      ],
      "metadata": {
        "id": "m4VaJq9NhT69"
      }
    },
    {
      "cell_type": "code",
      "source": [
        "numbers = [1, 2, 3, 4, 5]\n",
        "\n",
        "with open('numbers.txt', 'w') as file:\n",
        "    for num in numbers:\n",
        "        file.write(f\"{num}\\n\")\n"
      ],
      "metadata": {
        "id": "wr7gzMmcdADp"
      },
      "execution_count": 32,
      "outputs": []
    },
    {
      "cell_type": "markdown",
      "source": [
        "Q18.How would you implement a basic logging setup that logs to a file with rotation after 1MB?"
      ],
      "metadata": {
        "id": "UCOSCKZDhmnF"
      }
    },
    {
      "cell_type": "code",
      "source": [
        "import logging\n",
        "from logging.handlers import RotatingFileHandler\n",
        "\n",
        "# Set up a rotating file handler\n",
        "handler = RotatingFileHandler('app.log', maxBytes=1_000_000, backupCount=3)\n",
        "\n",
        "# Configure logging\n",
        "logging.basicConfig(level=logging.INFO, handlers=[handler], format='%(asctime)s - %(levelname)s - %(message)s')\n",
        "\n",
        "# Example log message\n",
        "logging.info(\"Logging setup with rotation after 1MB.\")\n"
      ],
      "metadata": {
        "colab": {
          "base_uri": "https://localhost:8080/"
        },
        "id": "mVecK57hhxwa",
        "outputId": "5d6b37f5-1bc3-4050-f821-261d9ba8c513"
      },
      "execution_count": 33,
      "outputs": [
        {
          "output_type": "stream",
          "name": "stderr",
          "text": [
            "INFO:root:Logging setup with rotation after 1MB.\n"
          ]
        }
      ]
    },
    {
      "cell_type": "markdown",
      "source": [
        "Q19.Write a program that handles both IndexError and KeyError using a try-except block?"
      ],
      "metadata": {
        "id": "oSPWa02oi8jq"
      }
    },
    {
      "cell_type": "code",
      "source": [
        "my_list = [10, 20, 30]\n",
        "my_dict = {'a': 1, 'b': 2}\n",
        "\n",
        "try:\n",
        "    print(my_list[5])        # This will raise IndexError\n",
        "    print(my_dict['z'])      # This will raise KeyError\n",
        "except IndexError:\n",
        "    print(\"IndexError: List index is out of range.\")\n",
        "except KeyError:\n",
        "    print(\"KeyError: Key not found in the dictionary.\")\n"
      ],
      "metadata": {
        "colab": {
          "base_uri": "https://localhost:8080/"
        },
        "id": "5dsPvD2gi09s",
        "outputId": "03e8ea3d-15d3-4cd7-bb8d-f38189707d0b"
      },
      "execution_count": 34,
      "outputs": [
        {
          "output_type": "stream",
          "name": "stdout",
          "text": [
            "IndexError: List index is out of range.\n"
          ]
        }
      ]
    },
    {
      "cell_type": "markdown",
      "source": [
        "Q20.How would you open a file and read its contents using a context manager in Python?"
      ],
      "metadata": {
        "id": "JQettgYQjGUL"
      }
    },
    {
      "cell_type": "code",
      "source": [
        "with open('filename.txt', 'r') as file:\n",
        "    content = file.read()\n",
        "    print(content)\n"
      ],
      "metadata": {
        "colab": {
          "base_uri": "https://localhost:8080/"
        },
        "id": "4nJEFImQjIKv",
        "outputId": "f15d6107-7f6e-44bf-e654-3d0453b46caa"
      },
      "execution_count": 35,
      "outputs": [
        {
          "output_type": "stream",
          "name": "stdout",
          "text": [
            "Hello, world!This text will be added at the end.\n",
            "\n"
          ]
        }
      ]
    },
    {
      "cell_type": "markdown",
      "source": [
        "Q21.Write a Python program that reads a file and prints the number of occurrences of a specific word?"
      ],
      "metadata": {
        "id": "NAEaus7djW-n"
      }
    },
    {
      "cell_type": "code",
      "source": [
        "def count_word_occurrences(filepath, word):\n",
        "    \"\"\"\n",
        "    Reads a file and counts the occurrences of a specific word.\n",
        "\n",
        "    Args:\n",
        "        filepath (str): The path to the file.\n",
        "        word (str): The word to count.\n",
        "\n",
        "    Returns:\n",
        "\n"
      ],
      "metadata": {
        "colab": {
          "base_uri": "https://localhost:8080/"
        },
        "id": "wbyyTMibjV2M",
        "outputId": "b49115e5-4199-4e5f-9be2-4e88e51948ec"
      },
      "execution_count": 41,
      "outputs": [
        {
          "output_type": "stream",
          "name": "stdout",
          "text": [
            "Enter the file path: 21\n",
            "Enter the word to count: 2\n",
            "Error: File not found at 21\n"
          ]
        }
      ]
    },
    {
      "cell_type": "markdown",
      "source": [
        "Q22.How can you check if a file is empty before attempting to read its contents?"
      ],
      "metadata": {
        "id": "MKrD0wk8j7Xu"
      }
    },
    {
      "cell_type": "code",
      "source": [
        "import re\n",
        "\n",
        "def count_word_occurrences(filepath, word):\n",
        "    count = 0\n",
        "    try:\n",
        "        with open(filepath, 'r') as file:\n",
        "            content = file.read().lower()\n",
        "            # Use regex to match whole words only\n",
        "            words = re.findall(r'\\b' + re.escape(word.lower()) + r'\\b', content)\n",
        "            count = len(words)\n",
        "    except FileNotFoundError:\n",
        "        print(f\"File not found: {filepath}\")\n",
        "        return -1\n",
        "    return count\n",
        "\n",
        "if __name__ == \"__main__\":\n",
        "    file_path = input(\"Enter file path: \")\n",
        "    word_to_count = input(\"Enter the word to count: \")\n",
        "    occurrences = count_word_occurrences(file_path, word_to_count)\n",
        "    if occurrences != -1:\n",
        "        print(f\"The word '{word_to_count}' appears {occurrences} times in the file.\")\n",
        "\n"
      ],
      "metadata": {
        "colab": {
          "base_uri": "https://localhost:8080/"
        },
        "id": "zES8DdWtkJxB",
        "outputId": "8151c662-282e-446d-d1fb-85c00512d1bf"
      },
      "execution_count": 42,
      "outputs": [
        {
          "output_type": "stream",
          "name": "stdout",
          "text": [
            "Enter file path: python\n",
            "Enter the word to count: 6\n",
            "File not found: python\n"
          ]
        }
      ]
    },
    {
      "cell_type": "markdown",
      "source": [
        "Q23. Write a Python program that writes to a log file when an error occurs during file handling."
      ],
      "metadata": {
        "id": "rWbil86bj7qU"
      }
    },
    {
      "cell_type": "code",
      "source": [
        "import logging\n",
        "\n",
        "# Set up logging to write errors to 'file_errors.log'\n",
        "logging.basicConfig(filename='file_errors.log', level=logging.ERROR,\n",
        "                    format='%(asctime)s - %(levelname)s - %(message)s')\n",
        "\n",
        "try:\n",
        "    with open('nonexistent_file.txt', 'r') as file:\n",
        "        content = file.read()\n",
        "except Exception as e:\n",
        "    logging.error(f\"Error while handling the file: {e}\")\n",
        "    print(\"An error occurred and was logged.\")\n"
      ],
      "metadata": {
        "colab": {
          "base_uri": "https://localhost:8080/"
        },
        "id": "5REmkWDdkOVt",
        "outputId": "2472d875-dec0-45f2-bff3-7637f54cb4bd"
      },
      "execution_count": 38,
      "outputs": [
        {
          "output_type": "stream",
          "name": "stderr",
          "text": [
            "ERROR:root:Error while handling the file: [Errno 2] No such file or directory: 'nonexistent_file.txt'\n"
          ]
        },
        {
          "output_type": "stream",
          "name": "stdout",
          "text": [
            "An error occurred and was logged.\n"
          ]
        }
      ]
    }
  ]
}